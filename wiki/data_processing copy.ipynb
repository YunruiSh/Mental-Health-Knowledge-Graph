{
 "cells": [
  {
   "cell_type": "code",
   "execution_count": 1,
   "id": "44e62d4f-ba67-4bda-9b38-3b7ddbb1bbe6",
   "metadata": {},
   "outputs": [],
   "source": [
    "# deal with data"
   ]
  },
  {
   "cell_type": "code",
   "execution_count": 1,
   "id": "98f88635-036f-4f6b-a330-06c63bdd8e5c",
   "metadata": {},
   "outputs": [],
   "source": [
    "import pandas as pd"
   ]
  },
  {
   "cell_type": "code",
   "execution_count": 3,
   "id": "7978aa5e-893c-41ed-a273-7eed7267eadd",
   "metadata": {},
   "outputs": [],
   "source": [
    "tomato = pd.read_csv(\"rotten_tomatoes.csv\")"
   ]
  },
  {
   "cell_type": "code",
   "execution_count": 4,
   "id": "f8fa560c-5b9a-4e1a-9409-4b4fc4f19934",
   "metadata": {},
   "outputs": [],
   "source": [
    "candset = pd.read_csv(\"candsetc.csv\")"
   ]
  },
  {
   "cell_type": "code",
   "execution_count": 2,
   "id": "e27fe0c1-a35c-4eae-a740-be47927686f4",
   "metadata": {},
   "outputs": [],
   "source": [
    "imdb = pd.read_csv(\"imdb.csv\", usecols=['ID','Title'])"
   ]
  },
  {
   "cell_type": "code",
   "execution_count": 7,
   "id": "b6ccd4da-3c9f-449e-9913-5c419f8b4170",
   "metadata": {},
   "outputs": [],
   "source": [
    "labeldata = pd.read_csv(\"labeled_datac.csv\")"
   ]
  },
  {
   "cell_type": "code",
   "execution_count": 5,
   "id": "2469cf0c-50ea-45ab-9419-89ce99ae680a",
   "metadata": {},
   "outputs": [],
   "source": [
    "for l in imdb[\"Title\"]:\n",
    "    if l is None:\n",
    "        l = \"None\""
   ]
  },
  {
   "cell_type": "code",
   "execution_count": 7,
   "id": "a9070e66-f02e-4c1f-82d4-acfb3f9ac238",
   "metadata": {},
   "outputs": [],
   "source": [
    "imdb.to_csv(\"imdb_title.txt\", header=None, index=None, sep='\\t', mode='w')"
   ]
  },
  {
   "cell_type": "code",
   "execution_count": 18,
   "id": "72b79b57-a9c7-44e9-a214-988a63de8c31",
   "metadata": {},
   "outputs": [],
   "source": [
    "# 2"
   ]
  },
  {
   "cell_type": "code",
   "execution_count": 8,
   "id": "7f641243-e4e5-4450-b2a9-5b75c8857e73",
   "metadata": {},
   "outputs": [],
   "source": [
    "imdb2 = pd.read_csv(\"imdb.csv\", usecols=['ID','Director'])"
   ]
  },
  {
   "cell_type": "code",
   "execution_count": 9,
   "id": "928d3c37-1286-459c-aff1-260ac3650d70",
   "metadata": {},
   "outputs": [],
   "source": [
    "for l in imdb2[\"Director\"]:\n",
    "    if l is None:\n",
    "        l = \"None\"\n",
    "imdb2.to_csv(\"imdb_director.txt\", header=None, index=None, sep='\\t', mode='w')"
   ]
  },
  {
   "cell_type": "code",
   "execution_count": 11,
   "id": "5807cacb-cb85-4586-9bd1-52c7bc5d4d94",
   "metadata": {},
   "outputs": [],
   "source": [
    "# 3\n",
    "imdb3 = pd.read_csv(\"imdb.csv\", usecols=['ID','Year'])\n",
    "newY = []\n",
    "for l in imdb3[\"Year\"]:\n",
    "    if l is not None:\n",
    "        newY.append(str(l))\n",
    "    else:\n",
    "        newY.append(\"NULL\")\n",
    "new3 = {'newid': imdb3[\"ID\"], 'newY':newY}\n",
    "df3 = pd.DataFrame(data=new3)\n",
    "df3.to_csv(\"imdb_date.txt\", header=None, index=None, sep='\\t', mode='w')"
   ]
  },
  {
   "cell_type": "code",
   "execution_count": 23,
   "id": "14d0f2ce-4107-420f-a46f-3cf2ee6c984d",
   "metadata": {},
   "outputs": [],
   "source": [
    "# 4\n",
    "tomato = pd.read_csv(\"rotten_tomatoes.csv\", usecols=['ID','Title'])\n",
    "tomato.to_csv(\"rotten_tomatoes_title.txt\", header=None, index=None, sep='\\t', mode='w')"
   ]
  },
  {
   "cell_type": "code",
   "execution_count": 24,
   "id": "8567556b-689f-4289-b2ca-746eee5e603b",
   "metadata": {},
   "outputs": [],
   "source": [
    "# 5\n",
    "tomato2 = pd.read_csv(\"rotten_tomatoes.csv\", usecols=['ID','Director'])\n",
    "tomato2.to_csv(\"rotten_tomatoes_director.txt\", header=None, index=None, sep='\\t', mode='w')"
   ]
  },
  {
   "cell_type": "code",
   "execution_count": 55,
   "id": "31309e35-474b-4558-a97e-f95f7151357e",
   "metadata": {},
   "outputs": [],
   "source": [
    "# 6\n",
    "tomato3 = pd.read_csv(\"rotten_tomatoes.csv\", usecols=['ID','Year'], parse_dates=['Year'])\n",
    "tomato3.to_csv(\"rotten_tomatoes_date.txt\", header=None, index=None, sep='\\t', mode='w')"
   ]
  },
  {
   "cell_type": "code",
   "execution_count": 3,
   "id": "b11574a7-6f24-43d3-b9cf-86da4b4ee81f",
   "metadata": {},
   "outputs": [],
   "source": [
    "# 7\n",
    "imdb4 = pd.read_csv(\"imdb.csv\", usecols=['ID'])\n",
    "tomato4 = pd.read_csv(\"rotten_tomatoes.csv\", usecols=['ID'])"
   ]
  },
  {
   "cell_type": "code",
   "execution_count": 4,
   "id": "b439d885-0e18-47e0-9a8f-182f9dc32b59",
   "metadata": {},
   "outputs": [],
   "source": [
    "import itertools  \n",
    "c = list(itertools.product(imdb4[\"ID\"], tomato4[\"ID\"]))\n",
    "df = pd.DataFrame(c)"
   ]
  },
  {
   "cell_type": "code",
   "execution_count": 5,
   "id": "3762abb1-162b-459c-93b1-374391623335",
   "metadata": {},
   "outputs": [],
   "source": [
    "df.to_csv(\"same_movie_target.txt\", header=None, index=None, sep='\\t', mode='w')"
   ]
  },
  {
   "cell_type": "code",
   "execution_count": 15,
   "id": "b42af242-9a6e-4312-8769-b3fa58846c03",
   "metadata": {},
   "outputs": [],
   "source": [
    "# 8\n",
    "label = pd.read_csv(\"labeled_datac.csv\", usecols=['ltable.ID', 'rtable.ID', 'gold'])\n",
    "newl = []\n",
    "for l in label[\"ltable.ID\"]:\n",
    "    newl.append(\"a-\"+str(l))\n",
    "newr = []\n",
    "for l in label[\"rtable.ID\"]:\n",
    "    newr.append(\"b-\"+str(l))"
   ]
  },
  {
   "cell_type": "code",
   "execution_count": 18,
   "id": "e90e37f5-f9f5-44f7-a4ef-545b7b07bd3e",
   "metadata": {},
   "outputs": [],
   "source": [
    "newlabel = {'newl': newl, 'newr':newr, 'gold':label[\"gold\"]}"
   ]
  },
  {
   "cell_type": "code",
   "execution_count": 20,
   "id": "4093b745-8927-4839-b014-e8a365af2a7a",
   "metadata": {},
   "outputs": [],
   "source": [
    "df2 = pd.DataFrame(data=newlabel)"
   ]
  },
  {
   "cell_type": "code",
   "execution_count": 22,
   "id": "214332fe-a397-4988-82a3-212e1e2ab077",
   "metadata": {},
   "outputs": [],
   "source": [
    "df2.to_csv(\"same_movie_truth.txt\", header=None, index=None, sep='\\t', mode='w')"
   ]
  },
  {
   "cell_type": "code",
   "execution_count": null,
   "id": "af162a92-ab9b-4b63-9fab-548173fce14e",
   "metadata": {},
   "outputs": [],
   "source": []
  }
 ],
 "metadata": {
  "kernelspec": {
   "display_name": "Python 3 (ipykernel)",
   "language": "python",
   "name": "python3"
  },
  "language_info": {
   "codemirror_mode": {
    "name": "ipython",
    "version": 3
   },
   "file_extension": ".py",
   "mimetype": "text/x-python",
   "name": "python",
   "nbconvert_exporter": "python",
   "pygments_lexer": "ipython3",
   "version": "3.9.7"
  }
 },
 "nbformat": 4,
 "nbformat_minor": 5
}

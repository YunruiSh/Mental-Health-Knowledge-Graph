{
 "cells": [
  {
   "cell_type": "code",
   "execution_count": 5,
   "id": "94d32cbc",
   "metadata": {},
   "outputs": [],
   "source": [
    "noUseKey = ['a', 'an', 'are', 'any', 'be', 'being', 'by', 'like', \n",
    "            'feeling', 'feel', 'feels', 'felt', \n",
    "            'what', 'has', 'have', 'having', 'getting', \n",
    "            'or', 'and', 'of', 'in', 'at', 'on', 'from', 'to', 'out', 'into',\n",
    "            'the', 'that', 'they', 'their', \n",
    "            'about', 'it', 'is', 'if', 'did',\n",
    "            'you', 'your', 'yourself', \n",
    "            'other', 'others', 'as', 'can', 'cant', 'will', 'for']"
   ]
  },
  {
   "cell_type": "code",
   "execution_count": 41,
   "id": "e1b64c87",
   "metadata": {},
   "outputs": [],
   "source": [
    "import pandas as pd\n",
    "test = pd.read_csv(\"use.txt\", header=None)\n",
    "\n",
    "keyP = []\n",
    "valueP = []\n",
    "for line in test[0]:\n",
    "    save_key = str(line).split(': ')[0]\n",
    "    save_value = str(line).split(': ')[1]\n",
    "    keyP.append(save_key)\n",
    "    valueP.append(int(save_value))\n",
    "one = dict(zip(keyP, valueP))"
   ]
  },
  {
   "cell_type": "code",
   "execution_count": 42,
   "id": "51237fea",
   "metadata": {},
   "outputs": [
    {
     "name": "stdout",
     "output_type": "stream",
     "text": [
      "{'i': Fraction(6, 29), 'me': Fraction(2, 29), 'care': Fraction(1, 29), 'peoples': Fraction(1, 29), 'opinions': Fraction(1, 29), 'sometimes': Fraction(1, 29), 'guess': Fraction(1, 29), 'judgment': Fraction(1, 29), 'want': Fraction(1, 29), 'meet': Fraction(1, 29), 'expectations': Fraction(1, 29), 'know': Fraction(1, 29), 'impossible': Fraction(1, 29), 'not': Fraction(1, 29), 'important': Fraction(1, 29), 'but': Fraction(1, 29), 'cannot': Fraction(1, 29), 'stop': Fraction(1, 29), 'doing': Fraction(1, 29), 'so': Fraction(1, 29), 'tired': Fraction(1, 29), 'please': Fraction(1, 29), 'help': Fraction(1, 29)}\n"
     ]
    }
   ],
   "source": [
    "# delete\n",
    "# 6\n",
    "from fractions import Fraction\n",
    "for item in noUseKey:\n",
    "    if item in one.keys():\n",
    "        one.pop(item)\n",
    "\n",
    "save_sum = 0\n",
    "for value in one.values():\n",
    "    save_sum += value\n",
    "    \n",
    "for k, v in one.items():\n",
    "    one[k] = Fraction(v, save_sum)\n",
    "    \n",
    "print(one)"
   ]
  },
  {
   "cell_type": "code",
   "execution_count": null,
   "id": "174f3e42",
   "metadata": {},
   "outputs": [],
   "source": [
    "{'issues': Fraction(2, 23), 'trust': Fraction(1, 23), 'commitment': Fraction(1, 23), 'intrusive': Fraction(1, 23), 'thoughts': Fraction(1, 23), 'hopelessness': Fraction(1, 23), 'poor': Fraction(1, 23), 'emotional': Fraction(1, 23), 'regulation': Fraction(1, 23), 'confusion': Fraction(1, 23), 'becoming': Fraction(1, 23), 'triggered': Fraction(1, 23), 'easily': Fraction(1, 23), 'heightened': Fraction(1, 23), 'anxiety': Fraction(1, 23), 'irritability': Fraction(1, 23), 'rage': Fraction(1, 23), 'worry': Fraction(1, 23), 'fear': Fraction(1, 23), 'withdrawal': Fraction(1, 23), 'social': Fraction(1, 23), 'interactions': Fraction(1, 23)}"
   ]
  },
  {
   "cell_type": "code",
   "execution_count": null,
   "id": "fe416f52",
   "metadata": {},
   "outputs": [],
   "source": [
    "{'i': Fraction(1, 7), 'last': Fraction(2, 35), 'my': Fraction(2, 35), 'me': Fraction(2, 35), 'was': Fraction(1, 35), 'always': Fraction(1, 35), 'good': Fraction(1, 35), 'tempered': Fraction(1, 35), 'person': Fraction(1, 35), 'but': Fraction(1, 35), 'since': Fraction(1, 35), 'year': Fraction(1, 35), 'control': Fraction(1, 35), 'temper': Fraction(1, 35), 'week': Fraction(1, 35), 'broke': Fraction(1, 35), 'up': Fraction(1, 35), 'with': Fraction(1, 35), 'boyfriend': Fraction(1, 35), 'hurt': Fraction(1, 35), 'so': Fraction(1, 35), 'much': Fraction(1, 35), 'dont': Fraction(1, 35), 'know': Fraction(1, 35), 'mental': Fraction(1, 35), 'problem': Fraction(1, 35), 'please': Fraction(1, 35), 'help': Fraction(1, 35)}"
   ]
  },
  {
   "cell_type": "code",
   "execution_count": null,
   "id": "ae463e36",
   "metadata": {},
   "outputs": [],
   "source": [
    "{'i': Fraction(5, 41), 'am': Fraction(2, 41), 'my': Fraction(2, 41), 'dont': Fraction(2, 41), 'with': Fraction(2, 41), 'live': Fraction(2, 41), 'family': Fraction(2, 41), 'think': Fraction(1, 41), 'over': Fraction(1, 41), 'sensitive': Fraction(1, 41), 'because': Fraction(1, 41), 'parents': Fraction(1, 41), 'spend': Fraction(1, 41), 'much': Fraction(1, 41), 'time': Fraction(1, 41), 'me': Fraction(1, 41), 'after': Fraction(1, 41), 'divorce': Fraction(1, 41), 'boarding': Fraction(1, 41), 'school': Fraction(1, 41), 'good': Fraction(1, 41), 'friends': Fraction(1, 41), 'just': Fraction(1, 41), 'ten': Fraction(1, 41), 'year': Fraction(1, 41), 'old': Fraction(1, 41), 'child': Fraction(1, 41), 'really': Fraction(1, 41), 'want': Fraction(1, 41), 'enjoy': Fraction(1, 41), 'love': Fraction(1, 41)}"
   ]
  },
  {
   "cell_type": "code",
   "execution_count": null,
   "id": "083d29b6",
   "metadata": {},
   "outputs": [],
   "source": [
    "{'i': Fraction(4, 25), 'dont': Fraction(3, 50), 'things': Fraction(1, 25), 'worse': Fraction(1, 25), 'know': Fraction(1, 25), 'more': Fraction(1, 25), 'want': Fraction(1, 25), 'had': Fraction(1, 50), 'huge': Fraction(1, 50), 'workload': Fraction(1, 50), 'this': Fraction(1, 50), 'quarter': Fraction(1, 50), 'been': Fraction(1, 50), 'great': Fraction(1, 50), 'sense': Fraction(1, 50), 'anxiety': Fraction(1, 50), 'over': Fraction(1, 50), 'months': Fraction(1, 50), 'always': Fraction(1, 50), 'expect': Fraction(1, 50), 'get': Fraction(1, 50), 'better': Fraction(1, 50), 'however': Fraction(1, 50), 'only': Fraction(1, 50), 'gets': Fraction(1, 50), 'why': Fraction(1, 50), 'but': Fraction(1, 50), 'sometimes': Fraction(1, 50), 'seems': Fraction(1, 50), 'left': Fraction(1, 50), 'procrastinate': Fraction(1, 50), 'should': Fraction(1, 50), 'do': Fraction(1, 50), 'really': Fraction(1, 50), 'hate': Fraction(1, 50), 'myself': Fraction(1, 50)}"
   ]
  },
  {
   "cell_type": "code",
   "execution_count": null,
   "id": "32179069",
   "metadata": {},
   "outputs": [],
   "source": [
    "{'i': Fraction(1, 6), 'me': Fraction(1, 12), 'hate': Fraction(1, 18), 'do': Fraction(1, 18), 'go': Fraction(1, 36), 'school': Fraction(1, 36), 'am': Fraction(1, 36), 'told': Fraction(1, 36), 'people': Fraction(1, 36), 'said': Fraction(1, 36), 'bad': Fraction(1, 36), 'temper': Fraction(1, 36), 'but': Fraction(1, 36), 'dont': Fraction(1, 36), 'care': Fraction(1, 36), 'think': Fraction(1, 36), 'also': Fraction(1, 36), 'my': Fraction(1, 36), 'parents': Fraction(1, 36), 'annoying': Fraction(1, 36), 'really': Fraction(1, 36), 'hope': Fraction(1, 36), 'could': Fraction(1, 36), 'let': Fraction(1, 36), 'free': Fraction(1, 36), 'leave': Fraction(1, 36), 'alone': Fraction(1, 36)}"
   ]
  },
  {
   "cell_type": "code",
   "execution_count": null,
   "id": "18695175",
   "metadata": {},
   "outputs": [],
   "source": [
    "{'i': Fraction(3, 31), 'this': Fraction(2, 31), 'really': Fraction(2, 31), 'im': Fraction(1, 31), 'bored': Fraction(1, 31), 'these': Fraction(1, 31), 'days': Fraction(1, 31), 'starting': Fraction(1, 31), 'summer': Fraction(1, 31), 'was': Fraction(1, 31), 'harder': Fraction(1, 31), 'me': Fraction(1, 31), 'anything': Fraction(1, 31), 'interesting': Fraction(1, 31), 'sometimes': Fraction(1, 31), 'would': Fraction(1, 31), 'low': Fraction(1, 31), 'temper': Fraction(1, 31), 'emotional': Fraction(1, 31), 'upset': Fraction(1, 31), 'no': Fraction(1, 31), 'reason': Fraction(1, 31), 'stand': Fraction(1, 31), 'situation': Fraction(1, 31), 'anymore': Fraction(1, 31), 'need': Fraction(1, 31), 'help': Fraction(1, 31)}"
   ]
  },
  {
   "cell_type": "code",
   "execution_count": null,
   "id": "644aca26",
   "metadata": {},
   "outputs": [],
   "source": [
    "{'i': Fraction(1, 11), 'im': Fraction(1, 22), 'loss': Fraction(1, 22), 'my': Fraction(1, 22), 'future': Fraction(1, 22), 'every': Fraction(1, 22), 'day': Fraction(1, 22), 'want': Fraction(1, 22), 'do': Fraction(1, 22), 'everything': Fraction(1, 22), 'perfectly': Fraction(1, 22), 'but': Fraction(1, 22), 'ultimately': Fraction(1, 22), 'find': Fraction(1, 22), 'myself': Fraction(1, 22), 'just': Fraction(1, 22), 'spinning': Fraction(1, 22), 'place': Fraction(1, 22), 'with': Fraction(1, 22), 'no': Fraction(1, 22), 'progress': Fraction(1, 22)}"
   ]
  },
  {
   "cell_type": "code",
   "execution_count": null,
   "id": "87b6f780",
   "metadata": {},
   "outputs": [],
   "source": [
    "{'since': Fraction(1, 24), 'pandemic': Fraction(1, 24), 'seems': Fraction(1, 24), 'ive': Fraction(1, 24), 'been': Fraction(1, 24), 'repeatedly': Fraction(1, 24), 'bouncing': Fraction(1, 24), 'sideways': Fraction(1, 24), 'between': Fraction(1, 24), 'very': Fraction(1, 24), 'energetic': Fraction(1, 24), 'not': Fraction(1, 24), 'wanting': Fraction(1, 24), 'do': Fraction(1, 24), 'anything': Fraction(1, 24), 'every': Fraction(1, 24), 'day': Fraction(1, 24), 'i': Fraction(1, 24), 'dont': Fraction(1, 24), 'know': Fraction(1, 24), 'whats': Fraction(1, 24), 'wrong': Fraction(1, 24), 'with': Fraction(1, 24), 'me': Fraction(1, 24)}"
   ]
  },
  {
   "cell_type": "code",
   "execution_count": null,
   "id": "f576fb83",
   "metadata": {},
   "outputs": [],
   "source": [
    "{'i': Fraction(1, 5), 'my': Fraction(1, 25), 'whole': Fraction(1, 25), 'body': Fraction(1, 25), 'hurts': Fraction(1, 25), 'experienced': Fraction(1, 25), 'memory': Fraction(1, 25), 'loss': Fraction(1, 25), 'exhausted': Fraction(1, 25), 'frustrated': Fraction(1, 25), 'every': Fraction(1, 25), 'morning': Fraction(1, 25), 'when': Fraction(1, 25), 'wake': Fraction(1, 25), 'up': Fraction(1, 25), 'trembling': Fraction(1, 25), 'whenever': Fraction(1, 25), 'see': Fraction(1, 25), 'anything': Fraction(1, 25), 'related': Fraction(1, 25), 'disaster': Fraction(1, 25)}"
   ]
  },
  {
   "cell_type": "code",
   "execution_count": null,
   "id": "0a333fca",
   "metadata": {},
   "outputs": [],
   "source": [
    "{'i': Fraction(1, 9), 'am': Fraction(1, 18), 'afraid': Fraction(1, 18), 'talking': Fraction(1, 18), 'people': Fraction(1, 18), 'exposure': Fraction(1, 18), 'public': Fraction(1, 18), 'causes': Fraction(1, 18), 'dizziness': Fraction(1, 18), 'me': Fraction(1, 18), 'want': Fraction(1, 18), 'hide': Fraction(1, 18), 'my': Fraction(1, 18), 'own': Fraction(1, 18), 'chamber': Fraction(1, 18), 'isolated': Fraction(1, 18), 'world': Fraction(1, 18)}"
   ]
  },
  {
   "cell_type": "code",
   "execution_count": null,
   "id": "0a38670a",
   "metadata": {},
   "outputs": [],
   "source": [
    "{'my': Fraction(1, 9), 'i': Fraction(1, 9), 'father': Fraction(2, 27), 'both': Fraction(1, 27), 'grand': Fraction(1, 27), 'mother': Fraction(1, 27), 'died': Fraction(1, 27), 'suicide': Fraction(1, 27), 'am': Fraction(1, 27), 'worried': Fraction(1, 27), 'follow': Fraction(1, 27), 'suit': Fraction(1, 27), 'but': Fraction(1, 27), 'not': Fraction(1, 27), 'stop': Fraction(1, 27), 'nightmares': Fraction(1, 27), 'which': Fraction(1, 27), 'calling': Fraction(1, 27), 'me': Fraction(1, 27), 'go': Fraction(1, 27), 'with': Fraction(1, 27), 'him': Fraction(1, 27)}"
   ]
  },
  {
   "cell_type": "code",
   "execution_count": null,
   "id": "b79ee87c",
   "metadata": {},
   "outputs": [],
   "source": [
    "{'i': Fraction(1, 11), 'am': Fraction(1, 22), 'veteran': Fraction(1, 22), 'afghanistan': Fraction(1, 22), 'war': Fraction(1, 22), 'witnessed': Fraction(1, 22), 'young': Fraction(1, 22), 'girl': Fraction(1, 22), 'die': Fraction(1, 22), 'when': Fraction(1, 22), 'bullet': Fraction(1, 22), 'passed': Fraction(1, 22), 'through': Fraction(1, 22), 'body': Fraction(1, 22), 'scene': Fraction(1, 22), 'stuck': Fraction(1, 22), 'my': Fraction(1, 22), 'heart': Fraction(1, 22), 'made': Fraction(1, 22), 'hard': Fraction(1, 22), 'sleep': Fraction(1, 22)}"
   ]
  },
  {
   "cell_type": "code",
   "execution_count": null,
   "id": "062d4a2c",
   "metadata": {},
   "outputs": [],
   "source": [
    "{'i': Fraction(3, 22), 'do': Fraction(1, 11), 'water': Fraction(1, 11), 'life': Fraction(1, 22), 'meaningless': Fraction(1, 22), 'not': Fraction(1, 22), 'motivation': Fraction(1, 22), 'anything': Fraction(1, 22), 'nothing': Fraction(1, 22), 'stimulate': Fraction(1, 22), 'me': Fraction(1, 22), 'even': Fraction(1, 22), 'difficult': Fraction(1, 22), 'time': Fraction(1, 22), 'distinguishing': Fraction(1, 22), 'mere': Fraction(1, 22), 'with': Fraction(1, 22), 'sweet': Fraction(1, 22)}"
   ]
  },
  {
   "cell_type": "code",
   "execution_count": null,
   "id": "2b3361ae",
   "metadata": {},
   "outputs": [],
   "source": [
    "{'i': Fraction(1, 7), 'memory': Fraction(2, 21), 'serious': Fraction(1, 21), 'issue': Fraction(1, 21), 'just': Fraction(1, 21), 'remember': Fraction(1, 21), 'things': Fraction(1, 21), 'minute': Fraction(1, 21), 'also': Fraction(1, 21), 'always': Fraction(1, 21), 'worry': Fraction(1, 21), 'my': Fraction(1, 21), 'loss': Fraction(1, 21), 'worries': Fraction(1, 21), 'haunted': Fraction(1, 21), 'me': Fraction(1, 21), 'throughout': Fraction(1, 21), 'day': Fraction(1, 21)}"
   ]
  },
  {
   "cell_type": "code",
   "execution_count": null,
   "id": "1dac79f3",
   "metadata": {},
   "outputs": [],
   "source": [
    "\n",
    "{'i': Fraction(5, 29), 'work': Fraction(2, 29), 'am': Fraction(1, 29), 'serious': Fraction(1, 29), 'procrastinator': Fraction(1, 29), 'always': Fraction(1, 29), 'put': Fraction(1, 29), 'off': Fraction(1, 29), 'my': Fraction(1, 29), 'till': Fraction(1, 29), 'last': Fraction(1, 29), 'minute': Fraction(1, 29), 'everytime': Fraction(1, 29), 'time': Fraction(1, 29), 'try': Fraction(1, 29), 'do': Fraction(1, 29), 'planned': Fraction(1, 29), 'cannot': Fraction(1, 29), 'focus': Fraction(1, 29), 'really': Fraction(1, 29), 'need': Fraction(1, 29), 'someone': Fraction(1, 29), 'help': Fraction(1, 29), 'me': Fraction(1, 29)}"
   ]
  },
  {
   "cell_type": "code",
   "execution_count": null,
   "id": "1b658134",
   "metadata": {},
   "outputs": [],
   "source": [
    "{'i': Fraction(7, 38), 'am': Fraction(3, 38), 'sleep': Fraction(1, 19), 'brain': Fraction(1, 38), 'fog': Fraction(1, 38), 'alway': Fraction(1, 38), 'forget': Fraction(1, 38), 'where': Fraction(1, 38), 'my': Fraction(1, 38), 'phone': Fraction(1, 38), 'dont': Fraction(1, 38), 'know': Fraction(1, 38), 'why': Fraction(1, 38), 'cannot': Fraction(1, 38), 'focus': Fraction(1, 38), 'concentrate': Fraction(1, 38), 'now': Fraction(1, 38), 'falling': Fraction(1, 38), 'behind': Fraction(1, 38), 'school': Fraction(1, 38), 'depressed': Fraction(1, 38), 'each': Fraction(1, 38), 'time': Fraction(1, 38), 'go': Fraction(1, 38), 'just': Fraction(1, 38), 'even': Fraction(1, 38), 'though': Fraction(1, 38), 'super': Fraction(1, 38), 'tired': Fraction(1, 38)}"
   ]
  },
  {
   "cell_type": "code",
   "execution_count": null,
   "id": "fb3d40ce",
   "metadata": {},
   "outputs": [],
   "source": [
    "{'i': Fraction(7, 47), 'always': Fraction(2, 47), 'worst': Fraction(2, 47), 'results': Fraction(2, 47), 'dont': Fraction(2, 47), 'know': Fraction(2, 47), 'no': Fraction(1, 47), 'confidence': Fraction(1, 47), 'anything': Fraction(1, 47), 'do': Fraction(1, 47), 'when': Fraction(1, 47), 'need': Fraction(1, 47), 'deal': Fraction(1, 47), 'with': Fraction(1, 47), 'something': Fraction(1, 47), 'think': Fraction(1, 47), 'although': Fraction(1, 47), 'help': Fraction(1, 47), 'me': Fraction(1, 47), 'strong': Fraction(1, 47), 'heart': Fraction(1, 47), 'bear': Fraction(1, 47), 'result': Fraction(1, 47), 'brings': Fraction(1, 47), 'failures': Fraction(1, 47), 'want': Fraction(1, 47), 'put': Fraction(1, 47), 'more': Fraction(1, 47), 'effort': Fraction(1, 47), 'many': Fraction(1, 47), 'things': Fraction(1, 47), 'because': Fraction(1, 47), 'how': Fraction(1, 47), 'change': Fraction(1, 47), 'my': Fraction(1, 47), 'mind': Fraction(1, 47)}"
   ]
  },
  {
   "cell_type": "code",
   "execution_count": null,
   "id": "500bd32e",
   "metadata": {},
   "outputs": [],
   "source": [
    "{'i': Fraction(8, 45), 'dont': Fraction(2, 45), 'things': Fraction(2, 45), 'am': Fraction(2, 45), 'who': Fraction(2, 45), 'my': Fraction(1, 45), 'parents': Fraction(1, 45), 'divorced': Fraction(1, 45), 'when': Fraction(1, 45), 'was': Fraction(1, 45), 'child': Fraction(1, 45), 'worry': Fraction(1, 45), 'love': Fraction(1, 45), 'me': Fraction(1, 45), 'anymore': Fraction(1, 45), 'so': Fraction(1, 45), 'always': Fraction(1, 45), 'do': Fraction(1, 45), 'unusual': Fraction(1, 45), 'get': Fraction(1, 45), 'attention': Fraction(1, 45), 'such': Fraction(1, 45), 'drinking': Fraction(1, 45), 'smoking': Fraction(1, 45), 'sex': Fraction(1, 45), 'with': Fraction(1, 45), 'not': Fraction(1, 45), 'interested': Fraction(1, 45), 'these': Fraction(1, 45), 'sometimes': Fraction(1, 45), 'lost': Fraction(1, 45), 'because': Fraction(1, 45), 'know': Fraction(1, 45), 'want': Fraction(1, 45)}"
   ]
  },
  {
   "cell_type": "code",
   "execution_count": null,
   "id": "f4ff72a5",
   "metadata": {},
   "outputs": [],
   "source": [
    "{'i': Fraction(6, 29), 'me': Fraction(2, 29), 'care': Fraction(1, 29), 'peoples': Fraction(1, 29), 'opinions': Fraction(1, 29), 'sometimes': Fraction(1, 29), 'guess': Fraction(1, 29), 'judgment': Fraction(1, 29), 'want': Fraction(1, 29), 'meet': Fraction(1, 29), 'expectations': Fraction(1, 29), 'know': Fraction(1, 29), 'impossible': Fraction(1, 29), 'not': Fraction(1, 29), 'important': Fraction(1, 29), 'but': Fraction(1, 29), 'cannot': Fraction(1, 29), 'stop': Fraction(1, 29), 'doing': Fraction(1, 29), 'so': Fraction(1, 29), 'tired': Fraction(1, 29), 'please': Fraction(1, 29), 'help': Fraction(1, 29)}"
   ]
  }
 ],
 "metadata": {
  "kernelspec": {
   "display_name": "Python 3 (ipykernel)",
   "language": "python",
   "name": "python3"
  },
  "language_info": {
   "codemirror_mode": {
    "name": "ipython",
    "version": 3
   },
   "file_extension": ".py",
   "mimetype": "text/x-python",
   "name": "python",
   "nbconvert_exporter": "python",
   "pygments_lexer": "ipython3",
   "version": "3.9.7"
  }
 },
 "nbformat": 4,
 "nbformat_minor": 5
}

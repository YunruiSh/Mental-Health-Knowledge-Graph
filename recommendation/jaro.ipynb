{
 "cells": [
  {
   "cell_type": "code",
   "execution_count": 67,
   "id": "c294dbd2-fe8e-498d-8d77-cfe895becaf0",
   "metadata": {},
   "outputs": [],
   "source": [
    "issues = {\n",
    " 'anxiety':{'churning':1/10,'stress':2/10,'anxiety':3/10,'time':4/10},\n",
    " 'depression':{'meaningless':3/10,'quarter':2/10,'asleep':1/10,'bed':4/13},\n",
    " 'grief':{'judgment':3/13,'grief':3/13,'die':3/13,'workload':4/13},\n",
    " 'aa':{'churning':1/10,'stresfs':2/10,'anxiety':3/10,'time':4/10},\n",
    " 'bb':{'meaningless':3/10,'quarter':2/10,'asleep':1/10,'bed':4/13},\n",
    " 'cc':{'judgment':3/13,'grief':3/13,'die':3/13,'workload':4/13},\n",
    " 'dd':{'meaningless':1/10,'stress':2/10,'workload':3/10,'time':4/10},\n",
    " 'ee':{'meaningless':3/10,'quarter':2/10,'asleep':1/10,'bed':4/13},\n",
    " 'ff':{'judgment':3/13,'grief':3/13,'die':3/13,'workload':4/13},\n",
    " 'gg':{'churning':2/10,'meaningless':1/10,'anxiety':3/10,'time':4/10},\n",
    " 'hh':{'meaningless':3/10,'quarter':2/10,'asleep':2/10,'bed':3/13},\n",
    " 'ii':{'judgment':3/13,'grief':3/13,'die':3/13,'workload':4/13},\n",
    "}\n",
    "user = {\n",
    "    'churning':3/13,'stress':3/13,'asleep':3/13,'workload':4/13\n",
    "}"
   ]
  },
  {
   "cell_type": "code",
   "execution_count": 73,
   "id": "a3028190-391f-4539-a4bb-eb98cbde9f85",
   "metadata": {},
   "outputs": [
    {
     "name": "stdout",
     "output_type": "stream",
     "text": [
      "[['dd' '0.5']\n",
      " ['ii' '0.3076923076923077']\n",
      " ['ff' '0.3076923076923077']\n",
      " ['cc' '0.3076923076923077']\n",
      " ['grief' '0.3076923076923077']\n",
      " ['aa' '0.30000000000000004']\n",
      " ['anxiety' '0.30000000000000004']\n",
      " ['hh' '0.2']\n",
      " ['gg' '0.2']\n",
      " ['ee' '0.1']\n",
      " ['bb' '0.1']\n",
      " ['depression' '0.1']]\n",
      "dd,ii,ff,cc,grief,aa,anxiety,hh,gg,ee,bb,depression\n"
     ]
    }
   ],
   "source": [
    "import rltk\n",
    "import numpy as np\n",
    "\n",
    "list = []\n",
    "for issue in issues:\n",
    "    issueBoW = issues[issue]\n",
    "    sum = 0\n",
    "    for word in issueBoW:\n",
    "        for word_user in user:\n",
    "            c = rltk.jaro_winkler_similarity(word_user, word)\n",
    "            if c > 0.9:\n",
    "                sum += issueBoW[word]\n",
    "    stat = [sum, issue]\n",
    "    list.append(stat)\n",
    "\n",
    "list = np.array(list)\n",
    "list = np.flip(list[list[:,0].argsort()])\n",
    "print(list)\n",
    "\n",
    "res = []\n",
    "for index, item in enumerate(list):\n",
    "    res.append(item[0])\n",
    "    if index > 10:\n",
    "        break\n",
    "res = \",\".join(res)\n",
    "print(res)\n"
   ]
  },
  {
   "cell_type": "code",
   "execution_count": null,
   "id": "9355913c-3717-400d-8c9d-434ffd9fe961",
   "metadata": {},
   "outputs": [],
   "source": [
    "\"anxiety,stress,grief,parenting,school issues,impulse control disorders,emotional disturbance,anger management,depression,ADHD\""
   ]
  }
 ],
 "metadata": {
  "kernelspec": {
   "display_name": "Python 3 (ipykernel)",
   "language": "python",
   "name": "python3"
  },
  "language_info": {
   "codemirror_mode": {
    "name": "ipython",
    "version": 3
   },
   "file_extension": ".py",
   "mimetype": "text/x-python",
   "name": "python",
   "nbconvert_exporter": "python",
   "pygments_lexer": "ipython3",
   "version": "3.9.7"
  },
  "vscode": {
   "interpreter": {
    "hash": "caee565104a6b6e437a942c01a81befbed1052bf380b798d7edbfed982921bc4"
   }
  }
 },
 "nbformat": 4,
 "nbformat_minor": 5
}
